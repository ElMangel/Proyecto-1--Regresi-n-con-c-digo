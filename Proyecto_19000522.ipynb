{
 "cells": [
  {
   "cell_type": "markdown",
   "id": "60f03151-0b3a-4453-b079-fc9b1c1897be",
   "metadata": {},
   "source": [
    "Angel Mazariegos 19000522 - Sección V"
   ]
  },
  {
   "cell_type": "markdown",
   "id": "8cb49b3a-df48-48a9-901b-772695ed8637",
   "metadata": {},
   "source": [
    "### Ciencia de Datos en Python"
   ]
  },
  {
   "cell_type": "markdown",
   "id": "ba8d48e2-9417-4095-a812-1d73b7ad421a",
   "metadata": {},
   "source": [
    "# Proyecto #1"
   ]
  },
  {
   "cell_type": "code",
   "execution_count": 4,
   "id": "1e26a985-ae4e-4b69-8d14-a1120a6004ca",
   "metadata": {
    "tags": []
   },
   "outputs": [],
   "source": [
    "import numpy as np\n",
    "import pandas as pd\n",
    "import matplotlib.pyplot as plt\n",
    "import seaborn as sns\n",
    "from sklearn.linear_model import LinearRegression\n"
   ]
  },
  {
   "cell_type": "markdown",
   "id": "3552d59a-7f0b-44f1-bca9-05ad4aabaa31",
   "metadata": {},
   "source": [
    "**2. Usando sclicing con NumPy separar los datos en 2 datasets: entrenamiento(80 %) y validacion y pruebas(20 %).**"
   ]
  },
  {
   "cell_type": "code",
   "execution_count": 16,
   "id": "946b8252-e68c-4f38-8ef5-5e1b4d52df7e",
   "metadata": {
    "tags": []
   },
   "outputs": [],
   "source": [
    "dataset = np.load('proyecto_training_data.npy')\n",
    "entrenamiento = int(len(dataset)*0.8)\n",
    "\n",
    "dataset_entrenamiento = dataset[:entrenamiento]\n",
    "dataset_pruebas = dataset[entrenamiento:]"
   ]
  },
  {
   "cell_type": "code",
   "execution_count": 17,
   "id": "dae1b2ab-2028-4319-88c1-8472633a1753",
   "metadata": {
    "tags": []
   },
   "outputs": [
    {
     "data": {
      "text/plain": [
       "2"
      ]
     },
     "execution_count": 17,
     "metadata": {},
     "output_type": "execute_result"
    }
   ],
   "source": [
    "dataset_entrenamiento.ndim"
   ]
  },
  {
   "cell_type": "markdown",
   "id": "132b326a-157d-4a65-9e84-85b091f50393",
   "metadata": {},
   "source": [
    "**3. Analisis exploratorio de datos: Para cada variable en el dataset calcular((usando numpy o pandas)**\n",
    "- **Media**"
   ]
  },
  {
   "cell_type": "code",
   "execution_count": 21,
   "id": "cc69efc4-12b8-4e5c-be32-abe2db32d8d9",
   "metadata": {
    "tags": []
   },
   "outputs": [
    {
     "name": "stdout",
     "output_type": "stream",
     "text": [
      "Media de cada columna:\n",
      "[1.80590277e+05 6.10102740e+00 1.15632363e+03 6.48544521e+00\n",
      " 1.97145120e+03 6.99469854e+01]\n"
     ]
    }
   ],
   "source": [
    "media = np.nanmean(dataset_entrenamiento, axis=0)\n",
    "print(\"Media de cada columna:\")\n",
    "print(media)"
   ]
  },
  {
   "cell_type": "markdown",
   "id": "421978e7-87d3-42c0-ae26-6c7f144f0cdc",
   "metadata": {
    "tags": []
   },
   "source": [
    " - **Valor maximo**"
   ]
  },
  {
   "cell_type": "code",
   "execution_count": 23,
   "id": "d9992631-e973-44b6-bf3a-ed02b5bd19ec",
   "metadata": {
    "tags": []
   },
   "outputs": [
    {
     "data": {
      "text/plain": [
       "array([7.550e+05, 1.000e+01, 3.228e+03, 1.400e+01, 2.010e+03, 3.130e+02])"
      ]
     },
     "execution_count": 23,
     "metadata": {},
     "output_type": "execute_result"
    }
   ],
   "source": [
    "valor_max = np.nanmax(dataset_entrenamiento, axis=0)\n",
    "valor_max"
   ]
  },
  {
   "cell_type": "markdown",
   "id": "8d000fb6-629a-4338-9877-3e3a193782dd",
   "metadata": {},
   "source": [
    "- **Valor minimo**"
   ]
  },
  {
   "cell_type": "code",
   "execution_count": 24,
   "id": "14327d64-ba86-4533-a901-e3f762d234ba",
   "metadata": {
    "tags": []
   },
   "outputs": [
    {
     "data": {
      "text/plain": [
       "array([3.490e+04, 1.000e+00, 3.340e+02, 2.000e+00, 1.875e+03, 2.100e+01])"
      ]
     },
     "execution_count": 24,
     "metadata": {},
     "output_type": "execute_result"
    }
   ],
   "source": [
    "valor_min = np.nanmin(dataset_entrenamiento, axis=0)\n",
    "valor_min"
   ]
  },
  {
   "cell_type": "code",
   "execution_count": 25,
   "id": "69375957-701e-4805-a960-0a24e8db6ad7",
   "metadata": {
    "tags": []
   },
   "outputs": [
    {
     "name": "stderr",
     "output_type": "stream",
     "text": [
      "error: remote origin already exists.\n",
      "warning: in the working copy of 'Proyecto/Proyecto_19000522.ipynb', LF will be replaced by CRLF the next time Git touches it\n"
     ]
    },
    {
     "name": "stdout",
     "output_type": "stream",
     "text": [
      "[master b81adf8] Estado: Parte 3\n",
      " 1 file changed, 224 insertions(+)\n",
      " create mode 100644 Proyecto/Proyecto_19000522.ipynb\n"
     ]
    },
    {
     "name": "stderr",
     "output_type": "stream",
     "text": [
      "To https://github.com/ElMangel/Laboratorio-1.git\n",
      " ! [rejected]        master -> master (fetch first)\n",
      "error: failed to push some refs to 'https://github.com/ElMangel/Laboratorio-1.git'\n",
      "hint: Updates were rejected because the remote contains work that you do not\n",
      "hint: have locally. This is usually caused by another repository pushing to\n",
      "hint: the same ref. If you want to integrate the remote changes, use\n",
      "hint: 'git pull' before pushing again.\n",
      "hint: See the 'Note about fast-forwards' in 'git push --help' for details.\n"
     ]
    }
   ],
   "source": [
    "!git remote add origin https://github.com/ElMangel/Proyecto-1--Regresi-n-con-c-digo.git\n",
    "!git add Proyecto_19000522.ipynb\n",
    "!git commit -m \"Estado: Parte 3\"\n",
    "!git push --set-upstream origin master"
   ]
  },
  {
   "cell_type": "code",
   "execution_count": null,
   "id": "1cd91aec-6491-44fc-99c3-7962609a3480",
   "metadata": {},
   "outputs": [],
   "source": []
  }
 ],
 "metadata": {
  "kernelspec": {
   "display_name": "Python 3 (ipykernel)",
   "language": "python",
   "name": "python3"
  },
  "language_info": {
   "codemirror_mode": {
    "name": "ipython",
    "version": 3
   },
   "file_extension": ".py",
   "mimetype": "text/x-python",
   "name": "python",
   "nbconvert_exporter": "python",
   "pygments_lexer": "ipython3",
   "version": "3.11.5"
  }
 },
 "nbformat": 4,
 "nbformat_minor": 5
}
