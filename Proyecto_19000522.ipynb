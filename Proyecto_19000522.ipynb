{
 "cells": [
  {
   "cell_type": "markdown",
   "id": "60f03151-0b3a-4453-b079-fc9b1c1897be",
   "metadata": {},
   "source": [
    "Angel Mazariegos 19000522 - Sección V"
   ]
  },
  {
   "cell_type": "markdown",
   "id": "8cb49b3a-df48-48a9-901b-772695ed8637",
   "metadata": {},
   "source": [
    "### Ciencia de Datos en Python"
   ]
  },
  {
   "cell_type": "markdown",
   "id": "ba8d48e2-9417-4095-a812-1d73b7ad421a",
   "metadata": {},
   "source": [
    "# Proyecto #1"
   ]
  },
  {
   "cell_type": "code",
   "execution_count": 4,
   "id": "1e26a985-ae4e-4b69-8d14-a1120a6004ca",
   "metadata": {
    "tags": []
   },
   "outputs": [],
   "source": [
    "import numpy as np\n",
    "import pandas as pd\n",
    "import matplotlib.pyplot as plt\n",
    "import seaborn as sns\n",
    "from sklearn.linear_model import LinearRegression\n"
   ]
  },
  {
   "cell_type": "markdown",
   "id": "3552d59a-7f0b-44f1-bca9-05ad4aabaa31",
   "metadata": {},
   "source": [
    "### **2. Usando sclicing con NumPy separar los datos en 2 datasets: entrenamiento(80 %) y validacion y pruebas(20 %).**"
   ]
  },
  {
   "cell_type": "code",
   "execution_count": null,
   "id": "946b8252-e68c-4f38-8ef5-5e1b4d52df7e",
   "metadata": {
    "tags": []
   },
   "outputs": [],
   "source": [
    "dataset = np.load('proyecto_training_data.npy')\n",
    "entrenamiento = int(len(dataset)*0.8)\n",
    "\n",
    "dataset_entrenamiento = dataset[:entrenamiento]\n",
    "dataset_pruebas = dataset[entrenamiento:]"
   ]
  },
  {
   "cell_type": "code",
   "execution_count": null,
   "id": "dae1b2ab-2028-4319-88c1-8472633a1753",
   "metadata": {
    "tags": []
   },
   "outputs": [],
   "source": [
    "dataset_entrenamiento.ndim"
   ]
  },
  {
   "cell_type": "markdown",
   "id": "132b326a-157d-4a65-9e84-85b091f50393",
   "metadata": {},
   "source": [
    "### **3. Analisis exploratorio de datos: Para cada variable en el dataset calcular((usando numpy o pandas)**\n",
    "- **Media**"
   ]
  },
  {
   "cell_type": "code",
   "execution_count": null,
   "id": "cc69efc4-12b8-4e5c-be32-abe2db32d8d9",
   "metadata": {
    "tags": []
   },
   "outputs": [],
   "source": [
    "media = np.nanmean(dataset_entrenamiento, axis=0)\n",
    "print(\"Media de cada columna:\")\n",
    "print(media)"
   ]
  },
  {
   "cell_type": "markdown",
   "id": "421978e7-87d3-42c0-ae26-6c7f144f0cdc",
   "metadata": {
    "tags": []
   },
   "source": [
    " - **Valor maximo**"
   ]
  },
  {
   "cell_type": "code",
   "execution_count": null,
   "id": "d9992631-e973-44b6-bf3a-ed02b5bd19ec",
   "metadata": {
    "tags": []
   },
   "outputs": [],
   "source": [
    "valor_max = np.nanmax(dataset_entrenamiento, axis=0)\n",
    "valor_max"
   ]
  },
  {
   "cell_type": "markdown",
   "id": "8d000fb6-629a-4338-9877-3e3a193782dd",
   "metadata": {},
   "source": [
    "- **Valor minimo**"
   ]
  },
  {
   "cell_type": "code",
   "execution_count": null,
   "id": "14327d64-ba86-4533-a901-e3f762d234ba",
   "metadata": {
    "tags": []
   },
   "outputs": [],
   "source": [
    "valor_min = np.nanmin(dataset_entrenamiento, axis=0)\n",
    "valor_min"
   ]
  },
  {
   "cell_type": "code",
   "execution_count": null,
   "id": "eea3dbb6-dbf5-4134-9232-c931155caa28",
   "metadata": {
    "tags": []
   },
   "outputs": [],
   "source": [
    "!git init"
   ]
  },
  {
   "cell_type": "code",
   "execution_count": null,
   "id": "69375957-701e-4805-a960-0a24e8db6ad7",
   "metadata": {
    "tags": []
   },
   "outputs": [],
   "source": [
    "!git remote add origin https://github.com/ElMangel/Proyecto-1--Regresi-n-con-c-digo.git\n",
    "!git add Proyecto_19000522.ipynb\n",
    "!git commit -m \"Iniciando la Parte 6\"\n",
    "!git push --set-upstream origin master"
   ]
  },
  {
   "cell_type": "markdown",
   "id": "3b62fdc5-e911-4b4e-9572-47c4ad39da5f",
   "metadata": {},
   "source": [
    "- **Rango (peak to peak)**"
   ]
  },
  {
   "cell_type": "code",
   "execution_count": null,
   "id": "1cd91aec-6491-44fc-99c3-7962609a3480",
   "metadata": {
    "tags": []
   },
   "outputs": [],
   "source": [
    "rango = valor_max - valor_min\n",
    "print(rango)"
   ]
  },
  {
   "cell_type": "markdown",
   "id": "28b99bb9-1614-45ea-857b-46b2719bdb54",
   "metadata": {},
   "source": [
    "- **Desviacion estandar**"
   ]
  },
  {
   "cell_type": "code",
   "execution_count": null,
   "id": "df891c31-b76b-4085-a9da-48ea2d05dd5e",
   "metadata": {
    "tags": []
   },
   "outputs": [],
   "source": [
    "desviacion = np.nanstd(dataset_entrenamiento, axis=0, ddof=1)"
   ]
  },
  {
   "cell_type": "code",
   "execution_count": null,
   "id": "50d20acf-6cc9-420f-a56b-821ddafc209e",
   "metadata": {
    "tags": []
   },
   "outputs": [],
   "source": [
    "desviacion"
   ]
  },
  {
   "cell_type": "markdown",
   "id": "4c8810a7-7568-4218-b159-3b02231638c8",
   "metadata": {
    "tags": []
   },
   "source": [
    "### **4. Para cada variable en el dataset usar seaborn para graficar un histograma de la variable.**"
   ]
  },
  {
   "cell_type": "code",
   "execution_count": null,
   "id": "2ff94fdf-a3cd-485d-91fc-939fe1da7150",
   "metadata": {
    "tags": []
   },
   "outputs": [],
   "source": [
    "d = { 'SalePrice': dataset_entrenamiento[:, 0],\n",
    "      'OverallQual': dataset_entrenamiento[:, 1],\n",
    "      '1stFlrSF': dataset_entrenamiento[:, 2],\n",
    "      'TotRmsAbvGrd': dataset_entrenamiento[:, 3],\n",
    "      'YearBuilt': dataset_entrenamiento[:, 4],\n",
    "      'LotFrontage': dataset_entrenamiento[:, 5]\n",
    "     }\n",
    "\n",
    "df = pd.DataFrame(d)\n",
    "df\n",
    "\n"
   ]
  },
  {
   "cell_type": "code",
   "execution_count": null,
   "id": "12d2ce26-3b8e-4a3c-871d-5f5dd00e53e2",
   "metadata": {
    "tags": []
   },
   "outputs": [],
   "source": [
    "sns.histplot(df[\"SalePrice\"], kde=False, bins=20, label='SalePrice')\n",
    "\n",
    "sns.set(style=\"whitegrid\")\n",
    "plt.title('Histograma de SalePrice')\n",
    "plt.xlabel('Valor')\n",
    "plt.ylabel('Frecuencia')\n",
    "plt.legend()\n",
    "plt.show()"
   ]
  },
  {
   "cell_type": "code",
   "execution_count": null,
   "id": "ee366287-8502-4c9b-a3c2-63fdf35e4471",
   "metadata": {},
   "outputs": [],
   "source": [
    "sns.histplot(df[\"OverallQual\"], kde=False, bins=20, label='OverallQual')\n",
    "\n",
    "sns.set(style=\"whitegrid\")\n",
    "plt.title('Histograma de OverallQual')\n",
    "plt.xlabel('Valor')\n",
    "plt.ylabel('Frecuencia')\n",
    "plt.legend()\n",
    "plt.show()"
   ]
  },
  {
   "cell_type": "code",
   "execution_count": null,
   "id": "aa2e672b-9f81-478b-a9d2-4ab80aba98f4",
   "metadata": {
    "tags": []
   },
   "outputs": [],
   "source": [
    "sns.histplot(df[\"1stFlrSF\"], kde=False, bins=20, label='1stFlrSF')\n",
    "\n",
    "sns.set(style=\"whitegrid\")\n",
    "plt.title('Histograma de 1stFlrSF')\n",
    "plt.xlabel('Valor')\n",
    "plt.ylabel('Frecuencia')\n",
    "plt.legend()\n",
    "plt.show()"
   ]
  },
  {
   "cell_type": "code",
   "execution_count": null,
   "id": "5e937407-66d4-4808-8e65-b0efd081fd6b",
   "metadata": {
    "tags": []
   },
   "outputs": [],
   "source": [
    "sns.histplot(df[\"TotRmsAbvGrd\"], kde=False, bins=20, label='TotRmsAbvGrd')\n",
    "\n",
    "sns.set(style=\"whitegrid\")\n",
    "plt.title('Histograma de TotRmsAbvGrd')\n",
    "plt.xlabel('Valor')\n",
    "plt.ylabel('Frecuencia')\n",
    "plt.legend()\n",
    "plt.show()"
   ]
  },
  {
   "cell_type": "code",
   "execution_count": null,
   "id": "189ddcec-c89b-48d9-842a-df7f598963cc",
   "metadata": {
    "tags": []
   },
   "outputs": [],
   "source": [
    "sns.histplot(df[\"YearBuilt\"], kde=False, bins=20, label='YearBuilt')\n",
    "\n",
    "sns.set(style=\"whitegrid\")\n",
    "plt.title('Histograma de YearBuilt')\n",
    "plt.xlabel('Valor')\n",
    "plt.ylabel('Frecuencia')\n",
    "plt.legend()\n",
    "plt.show()"
   ]
  },
  {
   "cell_type": "code",
   "execution_count": null,
   "id": "d38e4fc4-ec77-4381-9ef5-da07f758f2a9",
   "metadata": {
    "tags": []
   },
   "outputs": [],
   "source": [
    "sns.histplot(df[\"LotFrontage\"], kde=False, bins=20, label='LotFrontage')\n",
    "\n",
    "sns.set(style=\"whitegrid\")\n",
    "plt.title('Histograma de LotFrontage')\n",
    "plt.xlabel('Valor')\n",
    "plt.ylabel('Frecuencia')\n",
    "plt.legend()\n",
    "plt.show()"
   ]
  },
  {
   "cell_type": "markdown",
   "id": "76baf251-e552-421a-8f8b-c8f2e38f3d61",
   "metadata": {},
   "source": [
    "### **5. Para cada variable independiente x :**\n",
    "- **Calcular el coeficiente de correlación entre x y y.**\n",
    "- **Graficar x vs y (scatterplot) usando matplotlib.**\n",
    "- **Colocar el coeficiente de correlación y colocarlo como parte del título de la gráfica.**"
   ]
  },
  {
   "cell_type": "code",
   "execution_count": null,
   "id": "b8475aed-7bc5-44ae-8549-7d2396924c10",
   "metadata": {
    "tags": []
   },
   "outputs": [],
   "source": [
    "coef_correlacion1 = df['OverallQual'].corr(df['SalePrice'])\n",
    "\n",
    "plt.scatter(df['OverallQual'], df['SalePrice'])\n",
    "plt.xlabel('OverallQual')\n",
    "plt.ylabel('SalePrice')\n",
    "plt.title(f'OverallQual vs SalePrice, r = {coef_correlacion1}')\n",
    "plt.grid(True)\n",
    "plt.show()"
   ]
  },
  {
   "cell_type": "code",
   "execution_count": null,
   "id": "9b7900f7-82ce-4a3a-b900-c8558acdb5f6",
   "metadata": {
    "tags": []
   },
   "outputs": [],
   "source": [
    "coef_correlacion2 = df['1stFlrSF'].corr(df['SalePrice'])\n",
    "\n",
    "plt.scatter(df['1stFlrSF'], df['SalePrice'])\n",
    "plt.xlabel('1stFlrSF')\n",
    "plt.ylabel('SalePrice')\n",
    "plt.title(f'1stFlrSF vs SalePrice, r = {coef_correlacion2}')\n",
    "plt.grid(True)\n",
    "plt.show()"
   ]
  },
  {
   "cell_type": "code",
   "execution_count": null,
   "id": "c0d128b0-08a0-4871-b0ee-f35808e9c0f1",
   "metadata": {
    "tags": []
   },
   "outputs": [],
   "source": [
    "coef_correlacion3 = df['TotRmsAbvGrd'].corr(df['SalePrice'])\n",
    "\n",
    "plt.scatter(df['TotRmsAbvGrd'], df['SalePrice'])\n",
    "plt.xlabel('TotRmsAbvGrd')\n",
    "plt.ylabel('SalePrice')\n",
    "plt.title(f'TotRmsAbvGrd vs SalePrice, r = {coef_correlacion3}')\n",
    "plt.grid(True)\n",
    "plt.show()"
   ]
  },
  {
   "cell_type": "code",
   "execution_count": null,
   "id": "f21a521e-566d-4e47-a8cd-9a6821d5c368",
   "metadata": {
    "tags": []
   },
   "outputs": [],
   "source": [
    "coef_correlacion4 = df['YearBuilt'].corr(df['SalePrice'])\n",
    "\n",
    "plt.scatter(df['YearBuilt'], df['SalePrice'])\n",
    "plt.xlabel('YearBuilt')\n",
    "plt.ylabel('SalePrice')\n",
    "plt.title(f'YearBuilt vs SalePrice, r = {coef_correlacion4}')\n",
    "plt.grid(True)\n",
    "plt.show()"
   ]
  },
  {
   "cell_type": "code",
   "execution_count": null,
   "id": "49203a38-7ac9-4de4-b176-3262a7a2e98e",
   "metadata": {
    "tags": []
   },
   "outputs": [],
   "source": [
    "coef_correlacion5 = df['LotFrontage'].corr(df['SalePrice'])\n",
    "\n",
    "plt.scatter(df['LotFrontage'], df['SalePrice'])\n",
    "plt.xlabel('')\n",
    "plt.ylabel('SalePrice')\n",
    "plt.title(f'LotFrontage vs SalePrice, r = {coef_correlacion5}')\n",
    "plt.grid(True)\n",
    "plt.show()"
   ]
  },
  {
   "cell_type": "markdown",
   "id": "698625b8-104a-4077-99d9-49484dae7115",
   "metadata": {
    "tags": []
   },
   "source": [
    "- **Basado en la gráfica y el coeficiente de correlación de cada par x,y elegir las 2 variables\n",
    "  con más potencial predictivo es decir las 2 variables que presentan mayor correlación\n",
    "  entre dicha variable y la variable dependiente.**\n",
    "  \n",
    "Los valores con mayor coeficiente de correlación:\n",
    "  - **OverallQual vs SalePrice = 0.79399**\n",
    "  - **1stFlrSF vs SalePrice = 0.616289**"
   ]
  },
  {
   "cell_type": "markdown",
   "id": "fddc1f7d-e98a-4743-b8a7-bec34d838675",
   "metadata": {},
   "source": [
    "### 6. Crear una funcion para entrenar un modelo de regresion lineal de una variable y = β0 +β1 ∗ x. La funcion recibe como argumentos:\n",
    "\n"
   ]
  },
  {
   "cell_type": "code",
   "execution_count": 14,
   "id": "340bbb4a-d531-424b-977c-08f942291880",
   "metadata": {
    "tags": []
   },
   "outputs": [
    {
     "name": "stdout",
     "output_type": "stream",
     "text": [
      "valor de beta = [[1. 1.]\n",
      " [2. 1.]\n",
      " [3. 1.]\n",
      " [4. 1.]\n",
      " [5. 1.]]\n",
      "Iteración 0: Error = 9.0\n",
      "Iteración 2: Error = 5.45481124\n",
      "Iteración 4: Error = 3.3122867545669257\n",
      "Iteración 6: Error = 2.017416464916916\n",
      "Iteración 8: Error = 1.2347984973486736\n",
      "Parámetros finales del modelo: [0.84617316 0.24650629]\n"
     ]
    }
   ],
   "source": [
    "def entrenar_regresion_lineal(x, y, epochs, imprimir_error_cada, alpha):\n",
    "    # Crear una matriz de 2 columnas, la primera columna corresponde al \n",
    "    # vector de datos x y la segunda columna de la matriz para todas las filas es igual a 1.\n",
    "    X = np.column_stack((x, np.ones(len(x))))\n",
    "    \n",
    "    # Inicializar los paráametros del modelo en un vector beta0 y beta1, esto es equivalente a empezar\n",
    "    # el proceso con una recta inicial la cual en cada iteración actualizaremos hasta encontrar\n",
    "    # una que aproxime de buena manera los datos x, y.\n",
    "    beta = np.zeros(2)\n",
    "    \n",
    "    print (f'valor de beta = {X}')\n",
    "    \n",
    "    \n",
    "    # Iteración sobre cada epoch\n",
    "    for epoch in range(epochs):\n",
    "        # Calcular la predicción (y_hat) usando los parámetros actuales\n",
    "        y_hat = np.dot(X, beta)\n",
    "        \n",
    "        # Calcular el error cuadrático medio\n",
    "        error = (np.mean((y_hat - y) ** 2))/2\n",
    "        \n",
    "        # Imprimir el error si es necesario\n",
    "        if epoch % imprimir_error_cada == 0:\n",
    "             print(f\"Iteración {epoch}: Error = {error}\")\n",
    "        \n",
    "        # Actualizar los parámetros del modelo usando gradiente descendente\n",
    "        gradient = np.dot(X.T, (y_hat - y))\n",
    "        beta -= alpha * gradient / len(y)\n",
    "    \n",
    "    # Devolver los parámetros finales del modelo\n",
    "    return beta\n",
    "\n",
    "# Ejemplo de uso\n",
    "x = np.array([1, 2, 3, 4, 5])\n",
    "y = np.array([2, 3, 4, 5, 6])\n",
    "epochs = 10\n",
    "imprimir_error_cada = 2\n",
    "alpha = 0.01\n",
    "\n",
    "# Entrenar el modelo\n",
    "beta_final = entrenar_regresion_lineal(x, y, epochs, imprimir_error_cada, alpha)\n",
    "print(\"Parámetros finales del modelo:\", beta_final)\n"
   ]
  },
  {
   "cell_type": "code",
   "execution_count": null,
   "id": "60639701-2a1f-4102-9d3a-66753cc3f6b1",
   "metadata": {
    "tags": []
   },
   "outputs": [],
   "source": [
    "def train_linear_regression(x, y, epochs, imprimir_error_cada, alpha):\n",
    "    # Crear una matriz de 2 columnas con la primera columna como x y la segunda como 1\n",
    "    X = np.vstack((x, np.ones_like(x))).T\n",
    "    \n",
    "    # Inicializar los parámetros del modelo\n",
    "    beta = np.zeros(2)\n",
    "    \n",
    "    errores = []\n",
    "    \n",
    "    for epoch in range(epochs):\n",
    "        # Calcular la predicción\n",
    "        y_pred = np.dot(X, beta)\n",
    "        \n",
    "        # Calcular el error\n",
    "        error = np.mean((y_pred - y) ** 2)\n",
    "        errores.append(error)\n",
    "        \n",
    "        # Actualizar los parámetros del modelo\n",
    "        gradient = np.dot(X.T, y_pred - y) / len(y)\n",
    "        beta -= alpha * gradient\n",
    "        \n",
    "        if epoch % imprimir_error_cada == 0:\n",
    "            print(f\"Iteración {epoch}: Error = {error}\")\n",
    "    \n",
    "    return beta, errores\n",
    "\n",
    "# Ejemplo de uso\n",
    "x = np.array([1, 2, 3, 4, 5])\n",
    "y = np.array([2, 4, 5, 4, 5])\n",
    "epochs = 100\n",
    "imprimir_error_cada = 10\n",
    "alpha = 0.01\n",
    "\n",
    "beta_final, errores = train_linear_regression(x, y, epochs, imprimir_error_cada, alpha)\n",
    "print(\"Parámetros finales del modelo:\", beta_final)"
   ]
  },
  {
   "cell_type": "code",
   "execution_count": null,
   "id": "156d894b-413c-4780-af53-e1f0c5ff4aaa",
   "metadata": {},
   "outputs": [],
   "source": []
  }
 ],
 "metadata": {
  "kernelspec": {
   "display_name": "Python 3 (ipykernel)",
   "language": "python",
   "name": "python3"
  },
  "language_info": {
   "codemirror_mode": {
    "name": "ipython",
    "version": 3
   },
   "file_extension": ".py",
   "mimetype": "text/x-python",
   "name": "python",
   "nbconvert_exporter": "python",
   "pygments_lexer": "ipython3",
   "version": "3.11.5"
  }
 },
 "nbformat": 4,
 "nbformat_minor": 5
}
