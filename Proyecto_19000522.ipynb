{
 "cells": [
  {
   "cell_type": "markdown",
   "id": "60f03151-0b3a-4453-b079-fc9b1c1897be",
   "metadata": {},
   "source": [
    "Angel Mazariegos 19000522 - Sección V"
   ]
  },
  {
   "cell_type": "markdown",
   "id": "8cb49b3a-df48-48a9-901b-772695ed8637",
   "metadata": {},
   "source": [
    "### Ciencia de Datos en Python"
   ]
  },
  {
   "cell_type": "markdown",
   "id": "ba8d48e2-9417-4095-a812-1d73b7ad421a",
   "metadata": {},
   "source": [
    "# Proyecto #1"
   ]
  },
  {
   "cell_type": "code",
   "execution_count": 2,
   "id": "1e26a985-ae4e-4b69-8d14-a1120a6004ca",
   "metadata": {
    "tags": []
   },
   "outputs": [],
   "source": [
    "import numpy as np\n",
    "import pandas as pd\n",
    "import matplotlib.pyplot as plt\n",
    "import seaborn as sns\n",
    "from sklearn.linear_model import LinearRegression\n"
   ]
  },
  {
   "cell_type": "markdown",
   "id": "3552d59a-7f0b-44f1-bca9-05ad4aabaa31",
   "metadata": {},
   "source": [
    "### **2. Usando sclicing con NumPy separar los datos en 2 datasets: entrenamiento(80 %) y validacion y pruebas(20 %).**"
   ]
  },
  {
   "cell_type": "code",
   "execution_count": 3,
   "id": "946b8252-e68c-4f38-8ef5-5e1b4d52df7e",
   "metadata": {
    "tags": []
   },
   "outputs": [],
   "source": [
    "dataset = np.load('proyecto_training_data.npy')\n",
    "entrenamiento = int(len(dataset)*0.8)\n",
    "\n",
    "dataset_entrenamiento = dataset[:entrenamiento]\n",
    "dataset_pruebas = dataset[entrenamiento:]"
   ]
  },
  {
   "cell_type": "markdown",
   "id": "132b326a-157d-4a65-9e84-85b091f50393",
   "metadata": {},
   "source": [
    "### **3. Analisis exploratorio de datos: Para cada variable en el dataset calcular((usando numpy o pandas)**\n",
    "- **Media**"
   ]
  },
  {
   "cell_type": "code",
   "execution_count": 37,
   "id": "cc69efc4-12b8-4e5c-be32-abe2db32d8d9",
   "metadata": {
    "tags": []
   },
   "outputs": [
    {
     "name": "stdout",
     "output_type": "stream",
     "text": [
      "Media de cada columna:\n",
      "[1.80590277e+05 6.10102740e+00 1.15632363e+03 6.48544521e+00\n",
      " 1.97145120e+03 6.99469854e+01]\n"
     ]
    }
   ],
   "source": [
    "media = np.nanmean(dataset_entrenamiento, axis=0)\n",
    "print(\"Media de cada columna:\")\n",
    "print(media)"
   ]
  },
  {
   "cell_type": "markdown",
   "id": "421978e7-87d3-42c0-ae26-6c7f144f0cdc",
   "metadata": {
    "tags": []
   },
   "source": [
    " - **Valor maximo**"
   ]
  },
  {
   "cell_type": "code",
   "execution_count": null,
   "id": "d9992631-e973-44b6-bf3a-ed02b5bd19ec",
   "metadata": {
    "tags": []
   },
   "outputs": [],
   "source": [
    "valor_max = np.nanmax(dataset_entrenamiento, axis=0)\n",
    "valor_max"
   ]
  },
  {
   "cell_type": "markdown",
   "id": "8d000fb6-629a-4338-9877-3e3a193782dd",
   "metadata": {},
   "source": [
    "- **Valor minimo**"
   ]
  },
  {
   "cell_type": "code",
   "execution_count": null,
   "id": "14327d64-ba86-4533-a901-e3f762d234ba",
   "metadata": {
    "tags": []
   },
   "outputs": [],
   "source": [
    "valor_min = np.nanmin(dataset_entrenamiento, axis=0)\n",
    "valor_min"
   ]
  },
  {
   "cell_type": "code",
   "execution_count": 9,
   "id": "69375957-701e-4805-a960-0a24e8db6ad7",
   "metadata": {
    "tags": []
   },
   "outputs": [
    {
     "name": "stderr",
     "output_type": "stream",
     "text": [
      "warning: in the working copy of 'Proyecto_19000522.ipynb', LF will be replaced by CRLF the next time Git touches it\n"
     ]
    },
    {
     "name": "stdout",
     "output_type": "stream",
     "text": [
      "[master edfa84a] Terminando hasta gradiente de error\n",
      " 1 file changed, 262 insertions(+), 47 deletions(-)\n",
      "branch 'master' set up to track 'origin/master'.\n"
     ]
    },
    {
     "name": "stderr",
     "output_type": "stream",
     "text": [
      "To https://github.com/ElMangel/Proyecto-1--Regresi-n-con-c-digo.git\n",
      "   36e7b3d..edfa84a  master -> master\n"
     ]
    }
   ],
   "source": [
    "!git add Proyecto_19000522.ipynb\n",
    "!git commit -m \"Terminando hasta gradiente de error\"\n",
    "!git push --set-upstream origin master"
   ]
  },
  {
   "cell_type": "markdown",
   "id": "3b62fdc5-e911-4b4e-9572-47c4ad39da5f",
   "metadata": {},
   "source": [
    "- **Rango (peak to peak)**"
   ]
  },
  {
   "cell_type": "code",
   "execution_count": null,
   "id": "1cd91aec-6491-44fc-99c3-7962609a3480",
   "metadata": {
    "tags": []
   },
   "outputs": [],
   "source": [
    "rango = valor_max - valor_min\n",
    "print(rango)"
   ]
  },
  {
   "cell_type": "markdown",
   "id": "28b99bb9-1614-45ea-857b-46b2719bdb54",
   "metadata": {},
   "source": [
    "- **Desviacion estandar**"
   ]
  },
  {
   "cell_type": "code",
   "execution_count": null,
   "id": "df891c31-b76b-4085-a9da-48ea2d05dd5e",
   "metadata": {
    "tags": []
   },
   "outputs": [],
   "source": [
    "desviacion = np.nanstd(dataset_entrenamiento, axis=0, ddof=1)"
   ]
  },
  {
   "cell_type": "code",
   "execution_count": null,
   "id": "50d20acf-6cc9-420f-a56b-821ddafc209e",
   "metadata": {
    "tags": []
   },
   "outputs": [],
   "source": [
    "desviacion"
   ]
  },
  {
   "cell_type": "markdown",
   "id": "4c8810a7-7568-4218-b159-3b02231638c8",
   "metadata": {
    "tags": []
   },
   "source": [
    "### **4. Para cada variable en el dataset usar seaborn para graficar un histograma de la variable.**"
   ]
  },
  {
   "cell_type": "code",
   "execution_count": 38,
   "id": "2ff94fdf-a3cd-485d-91fc-939fe1da7150",
   "metadata": {
    "tags": []
   },
   "outputs": [
    {
     "data": {
      "text/html": [
       "<div>\n",
       "<style scoped>\n",
       "    .dataframe tbody tr th:only-of-type {\n",
       "        vertical-align: middle;\n",
       "    }\n",
       "\n",
       "    .dataframe tbody tr th {\n",
       "        vertical-align: top;\n",
       "    }\n",
       "\n",
       "    .dataframe thead th {\n",
       "        text-align: right;\n",
       "    }\n",
       "</style>\n",
       "<table border=\"1\" class=\"dataframe\">\n",
       "  <thead>\n",
       "    <tr style=\"text-align: right;\">\n",
       "      <th></th>\n",
       "      <th>SalePrice</th>\n",
       "      <th>OverallQual</th>\n",
       "      <th>1stFlrSF</th>\n",
       "      <th>TotRmsAbvGrd</th>\n",
       "      <th>YearBuilt</th>\n",
       "      <th>LotFrontage</th>\n",
       "    </tr>\n",
       "  </thead>\n",
       "  <tbody>\n",
       "    <tr>\n",
       "      <th>0</th>\n",
       "      <td>208500.0</td>\n",
       "      <td>7.0</td>\n",
       "      <td>856.0</td>\n",
       "      <td>8.0</td>\n",
       "      <td>2003.0</td>\n",
       "      <td>65.0</td>\n",
       "    </tr>\n",
       "    <tr>\n",
       "      <th>1</th>\n",
       "      <td>181500.0</td>\n",
       "      <td>6.0</td>\n",
       "      <td>1262.0</td>\n",
       "      <td>6.0</td>\n",
       "      <td>1976.0</td>\n",
       "      <td>80.0</td>\n",
       "    </tr>\n",
       "    <tr>\n",
       "      <th>2</th>\n",
       "      <td>223500.0</td>\n",
       "      <td>7.0</td>\n",
       "      <td>920.0</td>\n",
       "      <td>6.0</td>\n",
       "      <td>2001.0</td>\n",
       "      <td>68.0</td>\n",
       "    </tr>\n",
       "    <tr>\n",
       "      <th>3</th>\n",
       "      <td>140000.0</td>\n",
       "      <td>7.0</td>\n",
       "      <td>961.0</td>\n",
       "      <td>7.0</td>\n",
       "      <td>1915.0</td>\n",
       "      <td>60.0</td>\n",
       "    </tr>\n",
       "    <tr>\n",
       "      <th>4</th>\n",
       "      <td>250000.0</td>\n",
       "      <td>8.0</td>\n",
       "      <td>1145.0</td>\n",
       "      <td>9.0</td>\n",
       "      <td>2000.0</td>\n",
       "      <td>84.0</td>\n",
       "    </tr>\n",
       "    <tr>\n",
       "      <th>...</th>\n",
       "      <td>...</td>\n",
       "      <td>...</td>\n",
       "      <td>...</td>\n",
       "      <td>...</td>\n",
       "      <td>...</td>\n",
       "      <td>...</td>\n",
       "    </tr>\n",
       "    <tr>\n",
       "      <th>1163</th>\n",
       "      <td>108959.0</td>\n",
       "      <td>4.0</td>\n",
       "      <td>1258.0</td>\n",
       "      <td>6.0</td>\n",
       "      <td>1969.0</td>\n",
       "      <td>60.0</td>\n",
       "    </tr>\n",
       "    <tr>\n",
       "      <th>1164</th>\n",
       "      <td>194000.0</td>\n",
       "      <td>5.0</td>\n",
       "      <td>1432.0</td>\n",
       "      <td>5.0</td>\n",
       "      <td>1978.0</td>\n",
       "      <td>NaN</td>\n",
       "    </tr>\n",
       "    <tr>\n",
       "      <th>1165</th>\n",
       "      <td>233170.0</td>\n",
       "      <td>7.0</td>\n",
       "      <td>1502.0</td>\n",
       "      <td>7.0</td>\n",
       "      <td>2009.0</td>\n",
       "      <td>79.0</td>\n",
       "    </tr>\n",
       "    <tr>\n",
       "      <th>1166</th>\n",
       "      <td>245350.0</td>\n",
       "      <td>8.0</td>\n",
       "      <td>1694.0</td>\n",
       "      <td>7.0</td>\n",
       "      <td>2008.0</td>\n",
       "      <td>64.0</td>\n",
       "    </tr>\n",
       "    <tr>\n",
       "      <th>1167</th>\n",
       "      <td>173000.0</td>\n",
       "      <td>6.0</td>\n",
       "      <td>959.0</td>\n",
       "      <td>7.0</td>\n",
       "      <td>2000.0</td>\n",
       "      <td>58.0</td>\n",
       "    </tr>\n",
       "  </tbody>\n",
       "</table>\n",
       "<p>1168 rows × 6 columns</p>\n",
       "</div>"
      ],
      "text/plain": [
       "      SalePrice  OverallQual  1stFlrSF  TotRmsAbvGrd  YearBuilt  LotFrontage\n",
       "0      208500.0          7.0     856.0           8.0     2003.0         65.0\n",
       "1      181500.0          6.0    1262.0           6.0     1976.0         80.0\n",
       "2      223500.0          7.0     920.0           6.0     2001.0         68.0\n",
       "3      140000.0          7.0     961.0           7.0     1915.0         60.0\n",
       "4      250000.0          8.0    1145.0           9.0     2000.0         84.0\n",
       "...         ...          ...       ...           ...        ...          ...\n",
       "1163   108959.0          4.0    1258.0           6.0     1969.0         60.0\n",
       "1164   194000.0          5.0    1432.0           5.0     1978.0          NaN\n",
       "1165   233170.0          7.0    1502.0           7.0     2009.0         79.0\n",
       "1166   245350.0          8.0    1694.0           7.0     2008.0         64.0\n",
       "1167   173000.0          6.0     959.0           7.0     2000.0         58.0\n",
       "\n",
       "[1168 rows x 6 columns]"
      ]
     },
     "execution_count": 38,
     "metadata": {},
     "output_type": "execute_result"
    }
   ],
   "source": [
    "d = { 'SalePrice': dataset_entrenamiento[:, 0],\n",
    "      'OverallQual': dataset_entrenamiento[:, 1],\n",
    "      '1stFlrSF': dataset_entrenamiento[:, 2],\n",
    "      'TotRmsAbvGrd': dataset_entrenamiento[:, 3],\n",
    "      'YearBuilt': dataset_entrenamiento[:, 4],\n",
    "      'LotFrontage': dataset_entrenamiento[:, 5]\n",
    "     }\n",
    "\n",
    "df = pd.DataFrame(d)\n",
    "df\n",
    "\n"
   ]
  },
  {
   "cell_type": "code",
   "execution_count": 34,
   "id": "12d2ce26-3b8e-4a3c-871d-5f5dd00e53e2",
   "metadata": {
    "tags": []
   },
   "outputs": [
    {
     "data": {
      "image/png": "[encoded data removed]",
      "text/plain": [
       "<Figure size 640x480 with 1 Axes>"
      ]
     },
     "metadata": {},
     "output_type": "display_data"
    }
   ],
   "source": [
    "sns.histplot(df[\"SalePrice\"], kde=False, bins=20, label='SalePrice')\n",
    "\n",
    "sns.set(style=\"whitegrid\")\n",
    "plt.title('Histograma de SalePrice')\n",
    "plt.xlabel('Valor')\n",
    "plt.ylabel('Frecuencia')\n",
    "plt.legend()\n",
    "plt.show()"
   ]
  },
  {
   "cell_type": "code",
   "execution_count": null,
   "id": "ee366287-8502-4c9b-a3c2-63fdf35e4471",
   "metadata": {},
   "outputs": [],
   "source": [
    "sns.histplot(df[\"OverallQual\"], kde=False, bins=20, label='OverallQual')\n",
    "\n",
    "sns.set(style=\"whitegrid\")\n",
    "plt.title('Histograma de OverallQual')\n",
    "plt.xlabel('Valor')\n",
    "plt.ylabel('Frecuencia')\n",
    "plt.legend()\n",
    "plt.show()"
   ]
  },
  {
   "cell_type": "code",
   "execution_count": null,
   "id": "aa2e672b-9f81-478b-a9d2-4ab80aba98f4",
   "metadata": {
    "tags": []
   },
   "outputs": [],
   "source": [
    "sns.histplot(df[\"1stFlrSF\"], kde=False, bins=20, label='1stFlrSF')\n",
    "\n",
    "sns.set(style=\"whitegrid\")\n",
    "plt.title('Histograma de 1stFlrSF')\n",
    "plt.xlabel('Valor')\n",
    "plt.ylabel('Frecuencia')\n",
    "plt.legend()\n",
    "plt.show()"
   ]
  },
  {
   "cell_type": "code",
   "execution_count": null,
   "id": "5e937407-66d4-4808-8e65-b0efd081fd6b",
   "metadata": {
    "tags": []
   },
   "outputs": [],
   "source": [
    "sns.histplot(df[\"TotRmsAbvGrd\"], kde=False, bins=20, label='TotRmsAbvGrd')\n",
    "\n",
    "sns.set(style=\"whitegrid\")\n",
    "plt.title('Histograma de TotRmsAbvGrd')\n",
    "plt.xlabel('Valor')\n",
    "plt.ylabel('Frecuencia')\n",
    "plt.legend()\n",
    "plt.show()"
   ]
  },
  {
   "cell_type": "code",
   "execution_count": null,
   "id": "189ddcec-c89b-48d9-842a-df7f598963cc",
   "metadata": {
    "tags": []
   },
   "outputs": [],
   "source": [
    "sns.histplot(df[\"YearBuilt\"], kde=False, bins=20, label='YearBuilt')\n",
    "\n",
    "sns.set(style=\"whitegrid\")\n",
    "plt.title('Histograma de YearBuilt')\n",
    "plt.xlabel('Valor')\n",
    "plt.ylabel('Frecuencia')\n",
    "plt.legend()\n",
    "plt.show()"
   ]
  },
  {
   "cell_type": "code",
   "execution_count": null,
   "id": "d38e4fc4-ec77-4381-9ef5-da07f758f2a9",
   "metadata": {
    "tags": []
   },
   "outputs": [],
   "source": [
    "sns.histplot(df[\"LotFrontage\"], kde=False, bins=20, label='LotFrontage')\n",
    "\n",
    "sns.set(style=\"whitegrid\")\n",
    "plt.title('Histograma de LotFrontage')\n",
    "plt.xlabel('Valor')\n",
    "plt.ylabel('Frecuencia')\n",
    "plt.legend()\n",
    "plt.show()"
   ]
  },
  {
   "cell_type": "markdown",
   "id": "76baf251-e552-421a-8f8b-c8f2e38f3d61",
   "metadata": {},
   "source": [
    "### **5. Para cada variable independiente x :**\n",
    "- **Calcular el coeficiente de correlación entre x y y.**\n",
    "- **Graficar x vs y (scatterplot) usando matplotlib.**\n",
    "- **Colocar el coeficiente de correlación y colocarlo como parte del título de la gráfica.**"
   ]
  },
  {
   "cell_type": "code",
   "execution_count": null,
   "id": "b8475aed-7bc5-44ae-8549-7d2396924c10",
   "metadata": {
    "tags": []
   },
   "outputs": [],
   "source": [
    "coef_correlacion1 = df['OverallQual'].corr(df['SalePrice'])\n",
    "\n",
    "plt.scatter(df['OverallQual'], df['SalePrice'])\n",
    "plt.xlabel('OverallQual')\n",
    "plt.ylabel('SalePrice')\n",
    "plt.title(f'OverallQual vs SalePrice, r = {coef_correlacion1}')\n",
    "plt.grid(True)\n",
    "plt.show()"
   ]
  },
  {
   "cell_type": "code",
   "execution_count": null,
   "id": "9b7900f7-82ce-4a3a-b900-c8558acdb5f6",
   "metadata": {
    "tags": []
   },
   "outputs": [],
   "source": [
    "coef_correlacion2 = df['1stFlrSF'].corr(df['SalePrice'])\n",
    "\n",
    "plt.scatter(df['1stFlrSF'], df['SalePrice'])\n",
    "plt.xlabel('1stFlrSF')\n",
    "plt.ylabel('SalePrice')\n",
    "plt.title(f'1stFlrSF vs SalePrice, r = {coef_correlacion2}')\n",
    "plt.grid(True)\n",
    "plt.show()"
   ]
  },
  {
   "cell_type": "code",
   "execution_count": null,
   "id": "c0d128b0-08a0-4871-b0ee-f35808e9c0f1",
   "metadata": {
    "tags": []
   },
   "outputs": [],
   "source": [
    "coef_correlacion3 = df['TotRmsAbvGrd'].corr(df['SalePrice'])\n",
    "\n",
    "plt.scatter(df['TotRmsAbvGrd'], df['SalePrice'])\n",
    "plt.xlabel('TotRmsAbvGrd')\n",
    "plt.ylabel('SalePrice')\n",
    "plt.title(f'TotRmsAbvGrd vs SalePrice, r = {coef_correlacion3}')\n",
    "plt.grid(True)\n",
    "plt.show()"
   ]
  },
  {
   "cell_type": "code",
   "execution_count": null,
   "id": "f21a521e-566d-4e47-a8cd-9a6821d5c368",
   "metadata": {
    "tags": []
   },
   "outputs": [],
   "source": [
    "coef_correlacion4 = df['YearBuilt'].corr(df['SalePrice'])\n",
    "\n",
    "plt.scatter(df['YearBuilt'], df['SalePrice'])\n",
    "plt.xlabel('YearBuilt')\n",
    "plt.ylabel('SalePrice')\n",
    "plt.title(f'YearBuilt vs SalePrice, r = {coef_correlacion4}')\n",
    "plt.grid(True)\n",
    "plt.show()"
   ]
  },
  {
   "cell_type": "code",
   "execution_count": null,
   "id": "49203a38-7ac9-4de4-b176-3262a7a2e98e",
   "metadata": {
    "tags": []
   },
   "outputs": [],
   "source": [
    "coef_correlacion5 = df['LotFrontage'].corr(df['SalePrice'])\n",
    "\n",
    "plt.scatter(df['LotFrontage'], df['SalePrice'])\n",
    "plt.xlabel('')\n",
    "plt.ylabel('SalePrice')\n",
    "plt.title(f'LotFrontage vs SalePrice, r = {coef_correlacion5}')\n",
    "plt.grid(True)\n",
    "plt.show()"
   ]
  },
  {
   "cell_type": "markdown",
   "id": "698625b8-104a-4077-99d9-49484dae7115",
   "metadata": {
    "tags": []
   },
   "source": [
    "- **Basado en la gráfica y el coeficiente de correlación de cada par x,y elegir las 2 variables\n",
    "  con más potencial predictivo es decir las 2 variables que presentan mayor correlación\n",
    "  entre dicha variable y la variable dependiente.**\n",
    "  \n",
    "Los valores con mayor coeficiente de correlación:\n",
    "  - **OverallQual vs SalePrice = 0.79399**\n",
    "  - **1stFlrSF vs SalePrice = 0.616289**"
   ]
  },
  {
   "cell_type": "markdown",
   "id": "fddc1f7d-e98a-4743-b8a7-bec34d838675",
   "metadata": {},
   "source": [
    "### **6. Crear una funcion para entrenar un modelo de regresion lineal de una variable y = β0 +β1 ∗ x.\n",
    "\n"
   ]
  },
  {
   "cell_type": "code",
   "execution_count": 23,
   "id": "340bbb4a-d531-424b-977c-08f942291880",
   "metadata": {
    "tags": []
   },
   "outputs": [
    {
     "name": "stdout",
     "output_type": "stream",
     "text": [
      "Iteración 200: Error = 1316910966.5779603\n",
      "Iteración 400: Error = 1263290229.021076\n",
      "Iteración 600: Error = 1226582858.1702907\n",
      "Iteración 800: Error = 1201453940.9608324\n",
      "Iteración 1000: Error = 1184251333.8145258\n",
      "Iteración 1200: Error = 1172474873.6446161\n",
      "Iteración 1400: Error = 1164413013.4304073\n",
      "Iteración 1600: Error = 1158894072.32453\n",
      "Iteración 1800: Error = 1155115947.9064882\n",
      "Iteración 2000: Error = 1152529541.593327\n",
      "Parámetros finales del modelo: [ 43038.62376652 -81269.88013529]\n"
     ]
    }
   ],
   "source": [
    "def entrenar_regresion_lineal(x, y, epochs, imprimir_error_cada, alpha):\n",
    "    # Crear una matriz de 2 columnas, la primera columna corresponde al \n",
    "    # vector de datos x y la segunda columna de la matriz para todas las filas es igual a 1.\n",
    "    X = np.column_stack((x, np.ones(len(x))))\n",
    "    \n",
    "    # Inicializar los paráametros del modelo en un vector beta0 y beta1, esto es equivalente a empezar\n",
    "    # el proceso con una recta inicial la cual en cada iteración actualizaremos hasta encontrar\n",
    "    # una que aproxime de buena manera los datos x, y.\n",
    "    beta = np.zeros(2)\n",
    "    \n",
    "    #print (f'valor de beta = {X}')\n",
    "    errores = []\n",
    "    \n",
    "    # Iteración sobre cada epoch\n",
    "    for epoch in range(1, epochs+1):\n",
    "        # Calcular la predicción (y_hat) usando los parámetros actuales\n",
    "        y_hat = np.dot(X, beta)\n",
    "        \n",
    "        # Calcular el error o costo\n",
    "        error = (np.mean((y_hat - y) ** 2))/2\n",
    "        errores.append(error)\n",
    "        \n",
    "        #Calcular el gradiente del error respecto de cada parametro\n",
    "        gradiente_beta1 = np.mean((y_hat - y) * X[:, 0])\n",
    "        gradiente_beta0 = np.mean(y_hat - y)\n",
    "        \n",
    "        # Actualizar los parámetros del modelo usando gradiente descendente\n",
    "        beta[0] -= alpha * gradiente_beta1\n",
    "        beta[1] -= alpha * gradiente_beta0\n",
    "        \n",
    "        \n",
    "        # Imprimir el error si es necesario\n",
    "        if epoch % imprimir_error_cada == 0:\n",
    "             print(f\"Iteración {epoch}: Error = {error}\")\n",
    "        \n",
    "        # Actualizar los parámetros del modelo usando gradiente descendente\n",
    "        gradient = (np.dot(X.T, (y_hat - y)))/len(y)\n",
    "        beta -= alpha * gradient\n",
    "        #print (f'valor de gradiente = {gradient}')\n",
    "        \n",
    "    return beta\n",
    "\n",
    "# Ejemplo de uso\n",
    "x = np.array([1, 2, 3, 4, 5])\n",
    "y = np.array([2, 3, 4, 5, 6])\n",
    "epochs = 2000\n",
    "imprimir_error_cada = 200\n",
    "alpha = 0.01\n",
    "\n",
    "# Entrenar el modelo\n",
    "beta_final = entrenar_regresion_lineal(dataset_entrenamiento[:,1], dataset_entrenamiento[:,0], epochs, imprimir_error_cada, alpha)\n",
    "#beta_final = entrenar_regresion_lineal(x, y, epochs, imprimir_error_cada, alpha)\n",
    "print(\"Parámetros finales del modelo:\", beta_final)\n"
   ]
  },
  {
   "cell_type": "code",
   "execution_count": null,
   "id": "156d894b-413c-4780-af53-e1f0c5ff4aaa",
   "metadata": {},
   "outputs": [],
   "source": []
  }
 ],
 "metadata": {
  "kernelspec": {
   "display_name": "Python 3 (ipykernel)",
   "language": "python",
   "name": "python3"
  },
  "language_info": {
   "codemirror_mode": {
    "name": "ipython",
    "version": 3
   },
   "file_extension": ".py",
   "mimetype": "text/x-python",
   "name": "python",
   "nbconvert_exporter": "python",
   "pygments_lexer": "ipython3",
   "version": "3.11.5"
  }
 },
 "nbformat": 4,
 "nbformat_minor": 5
}
